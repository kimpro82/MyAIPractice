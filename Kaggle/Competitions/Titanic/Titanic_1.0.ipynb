{
 "cells": [
  {
   "cell_type": "markdown",
   "id": "e420d309",
   "metadata": {
    "papermill": {
     "duration": 0.005455,
     "end_time": "2022-07-27T16:16:50.249164",
     "exception": false,
     "start_time": "2022-07-27T16:16:50.243709",
     "status": "completed"
    },
    "tags": []
   },
   "source": [
    "# 1. Read, Skim and Pre-process data"
   ]
  },
  {
   "cell_type": "code",
   "execution_count": 1,
   "id": "f74eab45",
   "metadata": {
    "_cell_guid": "b1076dfc-b9ad-4769-8c92-a6c4dae69d19",
    "_uuid": "8f2839f25d086af736a60e9eeb907d3b93b6e0e5",
    "execution": {
     "iopub.execute_input": "2022-07-27T16:16:50.259806Z",
     "iopub.status.busy": "2022-07-27T16:16:50.258666Z",
     "iopub.status.idle": "2022-07-27T16:16:50.274312Z",
     "shell.execute_reply": "2022-07-27T16:16:50.273304Z"
    },
    "papermill": {
     "duration": 0.023808,
     "end_time": "2022-07-27T16:16:50.277219",
     "exception": false,
     "start_time": "2022-07-27T16:16:50.253411",
     "status": "completed"
    },
    "tags": []
   },
   "outputs": [
    {
     "name": "stdout",
     "output_type": "stream",
     "text": [
      "/kaggle/input/titanic/train.csv\n",
      "/kaggle/input/titanic/test.csv\n",
      "/kaggle/input/titanic/gender_submission.csv\n"
     ]
    }
   ],
   "source": [
    "# 1.0 Initial Codes given from Kaggle\n",
    "\n",
    "# This Python 3 environment comes with many helpful analytics libraries installed\n",
    "# It is defined by the kaggle/python Docker image: https://github.com/kaggle/docker-python\n",
    "# For example, here's several helpful packages to load\n",
    "\n",
    "import numpy as np # linear algebra\n",
    "import pandas as pd # data processing, CSV file I/O (e.g. pd.read_csv)\n",
    "\n",
    "# Input data files are available in the read-only \"../input/\" directory\n",
    "# For example, running this (by clicking run or pressing Shift+Enter) will list all files under the input directory\n",
    "\n",
    "import os\n",
    "for dirname, _, filenames in os.walk('/kaggle/input'):\n",
    "    for filename in filenames:\n",
    "        print(os.path.join(dirname, filename))\n",
    "\n",
    "# You can write up to 20GB to the current directory (/kaggle/working/) that gets preserved as output when you create a version using \"Save & Run All\" \n",
    "# You can also write temporary files to /kaggle/temp/, but they won't be saved outside of the current session"
   ]
  },
  {
   "cell_type": "code",
   "execution_count": 2,
   "id": "6acf2c61",
   "metadata": {
    "execution": {
     "iopub.execute_input": "2022-07-27T16:16:50.287636Z",
     "iopub.status.busy": "2022-07-27T16:16:50.287163Z",
     "iopub.status.idle": "2022-07-27T16:16:51.649685Z",
     "shell.execute_reply": "2022-07-27T16:16:51.647896Z"
    },
    "papermill": {
     "duration": 1.373367,
     "end_time": "2022-07-27T16:16:51.655001",
     "exception": false,
     "start_time": "2022-07-27T16:16:50.281634",
     "status": "completed"
    },
    "tags": []
   },
   "outputs": [
    {
     "name": "stdout",
     "output_type": "stream",
     "text": [
      "   PassengerId  Survived  Pclass  \\\n",
      "0            1         0       3   \n",
      "1            2         1       1   \n",
      "2            3         1       3   \n",
      "3            4         1       1   \n",
      "4            5         0       3   \n",
      "\n",
      "                                                Name     Sex   Age  SibSp  \\\n",
      "0                            Braund, Mr. Owen Harris    male  22.0      1   \n",
      "1  Cumings, Mrs. John Bradley (Florence Briggs Th...  female  38.0      1   \n",
      "2                             Heikkinen, Miss. Laina  female  26.0      0   \n",
      "3       Futrelle, Mrs. Jacques Heath (Lily May Peel)  female  35.0      1   \n",
      "4                           Allen, Mr. William Henry    male  35.0      0   \n",
      "\n",
      "   Parch            Ticket     Fare Cabin Embarked  \n",
      "0      0         A/5 21171   7.2500   NaN        S  \n",
      "1      0          PC 17599  71.2833   C85        C  \n",
      "2      0  STON/O2. 3101282   7.9250   NaN        S  \n",
      "3      0            113803  53.1000  C123        S  \n",
      "4      0            373450   8.0500   NaN        S  \n",
      "<class 'pandas.core.frame.DataFrame'>\n",
      "RangeIndex: 891 entries, 0 to 890\n",
      "Data columns (total 12 columns):\n",
      " #   Column       Non-Null Count  Dtype  \n",
      "---  ------       --------------  -----  \n",
      " 0   PassengerId  891 non-null    int64  \n",
      " 1   Survived     891 non-null    int64  \n",
      " 2   Pclass       891 non-null    int64  \n",
      " 3   Name         891 non-null    object \n",
      " 4   Sex          891 non-null    object \n",
      " 5   Age          714 non-null    float64\n",
      " 6   SibSp        891 non-null    int64  \n",
      " 7   Parch        891 non-null    int64  \n",
      " 8   Ticket       891 non-null    object \n",
      " 9   Fare         891 non-null    float64\n",
      " 10  Cabin        204 non-null    object \n",
      " 11  Embarked     889 non-null    object \n",
      "dtypes: float64(2), int64(5), object(5)\n",
      "memory usage: 83.7+ KB\n"
     ]
    },
    {
     "data": {
      "text/html": [
       "<div>\n",
       "<style scoped>\n",
       "    .dataframe tbody tr th:only-of-type {\n",
       "        vertical-align: middle;\n",
       "    }\n",
       "\n",
       "    .dataframe tbody tr th {\n",
       "        vertical-align: top;\n",
       "    }\n",
       "\n",
       "    .dataframe thead th {\n",
       "        text-align: right;\n",
       "    }\n",
       "</style>\n",
       "<table border=\"1\" class=\"dataframe\">\n",
       "  <thead>\n",
       "    <tr style=\"text-align: right;\">\n",
       "      <th></th>\n",
       "      <th>PassengerId</th>\n",
       "      <th>Survived</th>\n",
       "      <th>Pclass</th>\n",
       "      <th>Age</th>\n",
       "      <th>SibSp</th>\n",
       "      <th>Parch</th>\n",
       "      <th>Fare</th>\n",
       "    </tr>\n",
       "  </thead>\n",
       "  <tbody>\n",
       "    <tr>\n",
       "      <th>count</th>\n",
       "      <td>891.000000</td>\n",
       "      <td>891.000000</td>\n",
       "      <td>891.000000</td>\n",
       "      <td>714.000000</td>\n",
       "      <td>891.000000</td>\n",
       "      <td>891.000000</td>\n",
       "      <td>891.000000</td>\n",
       "    </tr>\n",
       "    <tr>\n",
       "      <th>mean</th>\n",
       "      <td>446.000000</td>\n",
       "      <td>0.383838</td>\n",
       "      <td>2.308642</td>\n",
       "      <td>29.699118</td>\n",
       "      <td>0.523008</td>\n",
       "      <td>0.381594</td>\n",
       "      <td>32.204208</td>\n",
       "    </tr>\n",
       "    <tr>\n",
       "      <th>std</th>\n",
       "      <td>257.353842</td>\n",
       "      <td>0.486592</td>\n",
       "      <td>0.836071</td>\n",
       "      <td>14.526497</td>\n",
       "      <td>1.102743</td>\n",
       "      <td>0.806057</td>\n",
       "      <td>49.693429</td>\n",
       "    </tr>\n",
       "    <tr>\n",
       "      <th>min</th>\n",
       "      <td>1.000000</td>\n",
       "      <td>0.000000</td>\n",
       "      <td>1.000000</td>\n",
       "      <td>0.420000</td>\n",
       "      <td>0.000000</td>\n",
       "      <td>0.000000</td>\n",
       "      <td>0.000000</td>\n",
       "    </tr>\n",
       "    <tr>\n",
       "      <th>25%</th>\n",
       "      <td>223.500000</td>\n",
       "      <td>0.000000</td>\n",
       "      <td>2.000000</td>\n",
       "      <td>20.125000</td>\n",
       "      <td>0.000000</td>\n",
       "      <td>0.000000</td>\n",
       "      <td>7.910400</td>\n",
       "    </tr>\n",
       "    <tr>\n",
       "      <th>50%</th>\n",
       "      <td>446.000000</td>\n",
       "      <td>0.000000</td>\n",
       "      <td>3.000000</td>\n",
       "      <td>28.000000</td>\n",
       "      <td>0.000000</td>\n",
       "      <td>0.000000</td>\n",
       "      <td>14.454200</td>\n",
       "    </tr>\n",
       "    <tr>\n",
       "      <th>75%</th>\n",
       "      <td>668.500000</td>\n",
       "      <td>1.000000</td>\n",
       "      <td>3.000000</td>\n",
       "      <td>38.000000</td>\n",
       "      <td>1.000000</td>\n",
       "      <td>0.000000</td>\n",
       "      <td>31.000000</td>\n",
       "    </tr>\n",
       "    <tr>\n",
       "      <th>max</th>\n",
       "      <td>891.000000</td>\n",
       "      <td>1.000000</td>\n",
       "      <td>3.000000</td>\n",
       "      <td>80.000000</td>\n",
       "      <td>8.000000</td>\n",
       "      <td>6.000000</td>\n",
       "      <td>512.329200</td>\n",
       "    </tr>\n",
       "  </tbody>\n",
       "</table>\n",
       "</div>"
      ],
      "text/plain": [
       "       PassengerId    Survived      Pclass         Age       SibSp  \\\n",
       "count   891.000000  891.000000  891.000000  714.000000  891.000000   \n",
       "mean    446.000000    0.383838    2.308642   29.699118    0.523008   \n",
       "std     257.353842    0.486592    0.836071   14.526497    1.102743   \n",
       "min       1.000000    0.000000    1.000000    0.420000    0.000000   \n",
       "25%     223.500000    0.000000    2.000000   20.125000    0.000000   \n",
       "50%     446.000000    0.000000    3.000000   28.000000    0.000000   \n",
       "75%     668.500000    1.000000    3.000000   38.000000    1.000000   \n",
       "max     891.000000    1.000000    3.000000   80.000000    8.000000   \n",
       "\n",
       "            Parch        Fare  \n",
       "count  891.000000  891.000000  \n",
       "mean     0.381594   32.204208  \n",
       "std      0.806057   49.693429  \n",
       "min      0.000000    0.000000  \n",
       "25%      0.000000    7.910400  \n",
       "50%      0.000000   14.454200  \n",
       "75%      0.000000   31.000000  \n",
       "max      6.000000  512.329200  "
      ]
     },
     "execution_count": 2,
     "metadata": {},
     "output_type": "execute_result"
    }
   ],
   "source": [
    "from sklearn.model_selection import train_test_split\n",
    "from sklearn.model_selection import cross_validate\n",
    "from sklearn.ensemble import HistGradientBoostingClassifier\n",
    "from sklearn.inspection import permutation_importance\n",
    "\n",
    "# 1.1 Read and Skim data\n",
    "\n",
    "df = pd.read_csv('/kaggle/input/titanic/train.csv')\n",
    "\n",
    "print(df.head())\n",
    "df.info()\n",
    "df.describe()"
   ]
  },
  {
   "cell_type": "code",
   "execution_count": 3,
   "id": "1e16b773",
   "metadata": {
    "execution": {
     "iopub.execute_input": "2022-07-27T16:16:51.667373Z",
     "iopub.status.busy": "2022-07-27T16:16:51.666617Z",
     "iopub.status.idle": "2022-07-27T16:16:51.674550Z",
     "shell.execute_reply": "2022-07-27T16:16:51.673422Z"
    },
    "papermill": {
     "duration": 0.018032,
     "end_time": "2022-07-27T16:16:51.678374",
     "exception": false,
     "start_time": "2022-07-27T16:16:51.660342",
     "status": "completed"
    },
    "tags": []
   },
   "outputs": [
    {
     "name": "stdout",
     "output_type": "stream",
     "text": [
      "['S' 'C' 'Q' nan]\n",
      "S    644\n",
      "C    168\n",
      "Q     77\n",
      "Name: Embarked, dtype: int64\n"
     ]
    }
   ],
   "source": [
    "# 1.2 Find where to pre-processing\n",
    "\n",
    "print(df[\"Embarked\"].unique())                                       # ['S' 'C' 'Q' nan]\n",
    "print(df[\"Embarked\"].value_counts())                                 # mode : 'S' (644/891)\n",
    "\n",
    "# Remove : 1 PassengerId, 3 Name, 8 Ticket (useless) / 10 Cabin (too many NaN)\n",
    "# Replace : 4 Sex(categorical) 5 Age(fill NaN) 11 Embarked(some NaN, categorical)"
   ]
  },
  {
   "cell_type": "code",
   "execution_count": 4,
   "id": "98d5e475",
   "metadata": {
    "execution": {
     "iopub.execute_input": "2022-07-27T16:16:51.690046Z",
     "iopub.status.busy": "2022-07-27T16:16:51.689630Z",
     "iopub.status.idle": "2022-07-27T16:16:51.760896Z",
     "shell.execute_reply": "2022-07-27T16:16:51.759280Z"
    },
    "papermill": {
     "duration": 0.080038,
     "end_time": "2022-07-27T16:16:51.763472",
     "exception": false,
     "start_time": "2022-07-27T16:16:51.683434",
     "status": "completed"
    },
    "tags": []
   },
   "outputs": [
    {
     "name": "stdout",
     "output_type": "stream",
     "text": [
      "   Survived  Pclass   Age  SibSp  Parch     Fare  Embarked_C  Embarked_Q  \\\n",
      "0         0       3  22.0      1      0   7.2500           0           0   \n",
      "1         1       1  38.0      1      0  71.2833           1           0   \n",
      "2         1       3  26.0      0      0   7.9250           0           0   \n",
      "3         1       1  35.0      1      0  53.1000           0           0   \n",
      "4         0       3  35.0      0      0   8.0500           0           0   \n",
      "\n",
      "   Embarked_S  Sex_female  Sex_male  \n",
      "0           1           0         1  \n",
      "1           0           1         0  \n",
      "2           1           1         0  \n",
      "3           1           1         0  \n",
      "4           1           0         1  \n",
      "<class 'pandas.core.frame.DataFrame'>\n",
      "RangeIndex: 891 entries, 0 to 890\n",
      "Data columns (total 11 columns):\n",
      " #   Column      Non-Null Count  Dtype  \n",
      "---  ------      --------------  -----  \n",
      " 0   Survived    891 non-null    int64  \n",
      " 1   Pclass      891 non-null    int64  \n",
      " 2   Age         891 non-null    float64\n",
      " 3   SibSp       891 non-null    int64  \n",
      " 4   Parch       891 non-null    int64  \n",
      " 5   Fare        891 non-null    float64\n",
      " 6   Embarked_C  891 non-null    uint8  \n",
      " 7   Embarked_Q  891 non-null    uint8  \n",
      " 8   Embarked_S  891 non-null    uint8  \n",
      " 9   Sex_female  891 non-null    uint8  \n",
      " 10  Sex_male    891 non-null    uint8  \n",
      "dtypes: float64(2), int64(4), uint8(5)\n",
      "memory usage: 46.2 KB\n"
     ]
    },
    {
     "data": {
      "text/html": [
       "<div>\n",
       "<style scoped>\n",
       "    .dataframe tbody tr th:only-of-type {\n",
       "        vertical-align: middle;\n",
       "    }\n",
       "\n",
       "    .dataframe tbody tr th {\n",
       "        vertical-align: top;\n",
       "    }\n",
       "\n",
       "    .dataframe thead th {\n",
       "        text-align: right;\n",
       "    }\n",
       "</style>\n",
       "<table border=\"1\" class=\"dataframe\">\n",
       "  <thead>\n",
       "    <tr style=\"text-align: right;\">\n",
       "      <th></th>\n",
       "      <th>Survived</th>\n",
       "      <th>Pclass</th>\n",
       "      <th>Age</th>\n",
       "      <th>SibSp</th>\n",
       "      <th>Parch</th>\n",
       "      <th>Fare</th>\n",
       "      <th>Embarked_C</th>\n",
       "      <th>Embarked_Q</th>\n",
       "      <th>Embarked_S</th>\n",
       "      <th>Sex_female</th>\n",
       "      <th>Sex_male</th>\n",
       "    </tr>\n",
       "  </thead>\n",
       "  <tbody>\n",
       "    <tr>\n",
       "      <th>count</th>\n",
       "      <td>891.000000</td>\n",
       "      <td>891.000000</td>\n",
       "      <td>891.000000</td>\n",
       "      <td>891.000000</td>\n",
       "      <td>891.000000</td>\n",
       "      <td>891.000000</td>\n",
       "      <td>891.000000</td>\n",
       "      <td>891.000000</td>\n",
       "      <td>891.000000</td>\n",
       "      <td>891.000000</td>\n",
       "      <td>891.000000</td>\n",
       "    </tr>\n",
       "    <tr>\n",
       "      <th>mean</th>\n",
       "      <td>0.383838</td>\n",
       "      <td>2.308642</td>\n",
       "      <td>29.699118</td>\n",
       "      <td>0.523008</td>\n",
       "      <td>0.381594</td>\n",
       "      <td>32.204208</td>\n",
       "      <td>0.188552</td>\n",
       "      <td>0.086420</td>\n",
       "      <td>0.725028</td>\n",
       "      <td>0.352413</td>\n",
       "      <td>0.647587</td>\n",
       "    </tr>\n",
       "    <tr>\n",
       "      <th>std</th>\n",
       "      <td>0.486592</td>\n",
       "      <td>0.836071</td>\n",
       "      <td>13.002015</td>\n",
       "      <td>1.102743</td>\n",
       "      <td>0.806057</td>\n",
       "      <td>49.693429</td>\n",
       "      <td>0.391372</td>\n",
       "      <td>0.281141</td>\n",
       "      <td>0.446751</td>\n",
       "      <td>0.477990</td>\n",
       "      <td>0.477990</td>\n",
       "    </tr>\n",
       "    <tr>\n",
       "      <th>min</th>\n",
       "      <td>0.000000</td>\n",
       "      <td>1.000000</td>\n",
       "      <td>0.420000</td>\n",
       "      <td>0.000000</td>\n",
       "      <td>0.000000</td>\n",
       "      <td>0.000000</td>\n",
       "      <td>0.000000</td>\n",
       "      <td>0.000000</td>\n",
       "      <td>0.000000</td>\n",
       "      <td>0.000000</td>\n",
       "      <td>0.000000</td>\n",
       "    </tr>\n",
       "    <tr>\n",
       "      <th>25%</th>\n",
       "      <td>0.000000</td>\n",
       "      <td>2.000000</td>\n",
       "      <td>22.000000</td>\n",
       "      <td>0.000000</td>\n",
       "      <td>0.000000</td>\n",
       "      <td>7.910400</td>\n",
       "      <td>0.000000</td>\n",
       "      <td>0.000000</td>\n",
       "      <td>0.000000</td>\n",
       "      <td>0.000000</td>\n",
       "      <td>0.000000</td>\n",
       "    </tr>\n",
       "    <tr>\n",
       "      <th>50%</th>\n",
       "      <td>0.000000</td>\n",
       "      <td>3.000000</td>\n",
       "      <td>29.699118</td>\n",
       "      <td>0.000000</td>\n",
       "      <td>0.000000</td>\n",
       "      <td>14.454200</td>\n",
       "      <td>0.000000</td>\n",
       "      <td>0.000000</td>\n",
       "      <td>1.000000</td>\n",
       "      <td>0.000000</td>\n",
       "      <td>1.000000</td>\n",
       "    </tr>\n",
       "    <tr>\n",
       "      <th>75%</th>\n",
       "      <td>1.000000</td>\n",
       "      <td>3.000000</td>\n",
       "      <td>35.000000</td>\n",
       "      <td>1.000000</td>\n",
       "      <td>0.000000</td>\n",
       "      <td>31.000000</td>\n",
       "      <td>0.000000</td>\n",
       "      <td>0.000000</td>\n",
       "      <td>1.000000</td>\n",
       "      <td>1.000000</td>\n",
       "      <td>1.000000</td>\n",
       "    </tr>\n",
       "    <tr>\n",
       "      <th>max</th>\n",
       "      <td>1.000000</td>\n",
       "      <td>3.000000</td>\n",
       "      <td>80.000000</td>\n",
       "      <td>8.000000</td>\n",
       "      <td>6.000000</td>\n",
       "      <td>512.329200</td>\n",
       "      <td>1.000000</td>\n",
       "      <td>1.000000</td>\n",
       "      <td>1.000000</td>\n",
       "      <td>1.000000</td>\n",
       "      <td>1.000000</td>\n",
       "    </tr>\n",
       "  </tbody>\n",
       "</table>\n",
       "</div>"
      ],
      "text/plain": [
       "         Survived      Pclass         Age       SibSp       Parch        Fare  \\\n",
       "count  891.000000  891.000000  891.000000  891.000000  891.000000  891.000000   \n",
       "mean     0.383838    2.308642   29.699118    0.523008    0.381594   32.204208   \n",
       "std      0.486592    0.836071   13.002015    1.102743    0.806057   49.693429   \n",
       "min      0.000000    1.000000    0.420000    0.000000    0.000000    0.000000   \n",
       "25%      0.000000    2.000000   22.000000    0.000000    0.000000    7.910400   \n",
       "50%      0.000000    3.000000   29.699118    0.000000    0.000000   14.454200   \n",
       "75%      1.000000    3.000000   35.000000    1.000000    0.000000   31.000000   \n",
       "max      1.000000    3.000000   80.000000    8.000000    6.000000  512.329200   \n",
       "\n",
       "       Embarked_C  Embarked_Q  Embarked_S  Sex_female    Sex_male  \n",
       "count  891.000000  891.000000  891.000000  891.000000  891.000000  \n",
       "mean     0.188552    0.086420    0.725028    0.352413    0.647587  \n",
       "std      0.391372    0.281141    0.446751    0.477990    0.477990  \n",
       "min      0.000000    0.000000    0.000000    0.000000    0.000000  \n",
       "25%      0.000000    0.000000    0.000000    0.000000    0.000000  \n",
       "50%      0.000000    0.000000    1.000000    0.000000    1.000000  \n",
       "75%      0.000000    0.000000    1.000000    1.000000    1.000000  \n",
       "max      1.000000    1.000000    1.000000    1.000000    1.000000  "
      ]
     },
     "execution_count": 4,
     "metadata": {},
     "output_type": "execute_result"
    }
   ],
   "source": [
    "# 1.3 Pre-processing : Remove or replace NaN\n",
    "\n",
    "# Remove : 1 PassengerId, 3 Name, 8 Ticket (useless) / 10 Cabin (too many NaN)\n",
    "# Replace : 4 Sex(categorical) 5 Age(fill NaN) 11 Embarked(some NaN, categorical)\n",
    "\n",
    "df.drop([\"PassengerId\", \"Name\", \"Ticket\", \"Cabin\"], axis=1, inplace=True)\n",
    "df[\"Age\"].fillna(df.Age.mean(), inplace=True)\n",
    "df[\"Embarked\"].fillna(\"S\", inplace=True)                  # \"S\" : mode\n",
    "df = pd.get_dummies(df, columns=[\"Embarked\", \"Sex\"])\n",
    "# df[\"Sex\"].replace(to_replace=\"male\", value=1, inplace=True)\n",
    "# df[\"Sex\"].replace(to_replace=\"female\", value=0, inplace=True)\n",
    "\n",
    "print(df.head())\n",
    "df.info()\n",
    "df.describe()\n"
   ]
  },
  {
   "cell_type": "markdown",
   "id": "853ebf7e",
   "metadata": {
    "papermill": {
     "duration": 0.004996,
     "end_time": "2022-07-27T16:16:51.773537",
     "exception": false,
     "start_time": "2022-07-27T16:16:51.768541",
     "status": "completed"
    },
    "tags": []
   },
   "source": [
    "# 2. HGB"
   ]
  },
  {
   "cell_type": "code",
   "execution_count": 5,
   "id": "5f3ece34",
   "metadata": {
    "execution": {
     "iopub.execute_input": "2022-07-27T16:16:51.786913Z",
     "iopub.status.busy": "2022-07-27T16:16:51.786492Z",
     "iopub.status.idle": "2022-07-27T16:16:51.797589Z",
     "shell.execute_reply": "2022-07-27T16:16:51.796266Z"
    },
    "papermill": {
     "duration": 0.021897,
     "end_time": "2022-07-27T16:16:51.800769",
     "exception": false,
     "start_time": "2022-07-27T16:16:51.778872",
     "status": "completed"
    },
    "tags": []
   },
   "outputs": [
    {
     "name": "stdout",
     "output_type": "stream",
     "text": [
      "891\n",
      "891\n",
      "[[ 3.     22.      1.      0.      7.25    0.      0.      1.      0.\n",
      "   1.    ]\n",
      " [ 1.     38.      1.      0.     71.2833  1.      0.      0.      1.\n",
      "   0.    ]\n",
      " [ 3.     26.      0.      0.      7.925   0.      0.      1.      1.\n",
      "   0.    ]\n",
      " [ 1.     35.      1.      0.     53.1     0.      0.      1.      1.\n",
      "   0.    ]\n",
      " [ 3.     35.      0.      0.      8.05    0.      0.      1.      0.\n",
      "   1.    ]]\n",
      "[0 1 1 1 0]\n"
     ]
    }
   ],
   "source": [
    "# 2.1 Split input and target data\n",
    "\n",
    "data = df.iloc[:,1:].to_numpy()                   # except 0 : Survived (target)\n",
    "target = df.iloc[:,0].to_numpy()\n",
    "\n",
    "print(len(data))                                  # 891\n",
    "print(len(target))                                # 891\n",
    "\n",
    "print(data[:5,])\n",
    "print(target[:5])"
   ]
  },
  {
   "cell_type": "code",
   "execution_count": 6,
   "id": "ccf86fac",
   "metadata": {
    "execution": {
     "iopub.execute_input": "2022-07-27T16:16:51.814704Z",
     "iopub.status.busy": "2022-07-27T16:16:51.813878Z",
     "iopub.status.idle": "2022-07-27T16:17:01.274769Z",
     "shell.execute_reply": "2022-07-27T16:17:01.273644Z"
    },
    "papermill": {
     "duration": 9.471754,
     "end_time": "2022-07-27T16:17:01.277806",
     "exception": false,
     "start_time": "2022-07-27T16:16:51.806052",
     "status": "completed"
    },
    "tags": []
   },
   "outputs": [
    {
     "name": "stdout",
     "output_type": "stream",
     "text": [
      "0.9459309962075663 0.8217275682064414\n",
      "[0.10011236 0.14502809 0.02331461 0.02769663 0.1272191  0.00710674\n",
      " 0.00230337 0.00734551 0.21139045 0.00049157]\n",
      "[ 0.05893855  0.09547486  0.00910615  0.00083799  0.04061453 -0.01653631\n",
      "  0.00039106 -0.00072626  0.16463687 -0.00346369]\n",
      "0.8324022346368715\n"
     ]
    }
   ],
   "source": [
    "# 2.2 HGB\n",
    "\n",
    "train_input, valid_input, train_target, valid_target = train_test_split(data, target, test_size=0.2, random_state=604)\n",
    "\n",
    "hgb = HistGradientBoostingClassifier(random_state=604)\n",
    "scores = cross_validate(hgb, train_input, train_target, return_train_score=True, n_jobs=-1)\n",
    "print(np.mean(scores['train_score']), np.mean(scores['test_score']))\n",
    "\n",
    "hgb.fit(train_input, train_target)\n",
    "\n",
    "result = permutation_importance(hgb, train_input, train_target, n_repeats=100, random_state=604, n_jobs=-1)\n",
    "print(result.importances_mean)\n",
    "\n",
    "result = permutation_importance(hgb, valid_input, valid_target, n_repeats=100, random_state=42, n_jobs=-1)\n",
    "print(result.importances_mean)\n",
    "\n",
    "print(hgb.score(valid_input, valid_target))"
   ]
  },
  {
   "cell_type": "markdown",
   "id": "2caa1313",
   "metadata": {
    "papermill": {
     "duration": 0.005504,
     "end_time": "2022-07-27T16:17:01.289525",
     "exception": false,
     "start_time": "2022-07-27T16:17:01.284021",
     "status": "completed"
    },
    "tags": []
   },
   "source": [
    "# 3. Submit"
   ]
  },
  {
   "cell_type": "code",
   "execution_count": 7,
   "id": "d15f4078",
   "metadata": {
    "execution": {
     "iopub.execute_input": "2022-07-27T16:17:01.302079Z",
     "iopub.status.busy": "2022-07-27T16:17:01.301355Z",
     "iopub.status.idle": "2022-07-27T16:17:01.346893Z",
     "shell.execute_reply": "2022-07-27T16:17:01.344788Z"
    },
    "papermill": {
     "duration": 0.055025,
     "end_time": "2022-07-27T16:17:01.349694",
     "exception": false,
     "start_time": "2022-07-27T16:17:01.294669",
     "status": "completed"
    },
    "tags": []
   },
   "outputs": [
    {
     "name": "stdout",
     "output_type": "stream",
     "text": [
      "   PassengerId  Pclass   Age  SibSp  Parch     Fare  Embarked_C  Embarked_Q  \\\n",
      "0          892       3  34.5      0      0   7.8292           0           1   \n",
      "1          893       3  47.0      1      0   7.0000           0           0   \n",
      "2          894       2  62.0      0      0   9.6875           0           1   \n",
      "3          895       3  27.0      0      0   8.6625           0           0   \n",
      "4          896       3  22.0      1      1  12.2875           0           0   \n",
      "\n",
      "   Embarked_S  Sex_female  Sex_male  \n",
      "0           0           0         1  \n",
      "1           1           1         0  \n",
      "2           0           0         1  \n",
      "3           1           0         1  \n",
      "4           1           1         0  \n",
      "<class 'pandas.core.frame.DataFrame'>\n",
      "RangeIndex: 418 entries, 0 to 417\n",
      "Data columns (total 11 columns):\n",
      " #   Column       Non-Null Count  Dtype  \n",
      "---  ------       --------------  -----  \n",
      " 0   PassengerId  418 non-null    int64  \n",
      " 1   Pclass       418 non-null    int64  \n",
      " 2   Age          418 non-null    float64\n",
      " 3   SibSp        418 non-null    int64  \n",
      " 4   Parch        418 non-null    int64  \n",
      " 5   Fare         418 non-null    float64\n",
      " 6   Embarked_C   418 non-null    uint8  \n",
      " 7   Embarked_Q   418 non-null    uint8  \n",
      " 8   Embarked_S   418 non-null    uint8  \n",
      " 9   Sex_female   418 non-null    uint8  \n",
      " 10  Sex_male     418 non-null    uint8  \n",
      "dtypes: float64(2), int64(4), uint8(5)\n",
      "memory usage: 21.8 KB\n"
     ]
    }
   ],
   "source": [
    "# 3.1 Read and pre-process the test data\n",
    "\n",
    "test = pd.read_csv('/kaggle/input/titanic/test.csv')\n",
    "\n",
    "# print(test.head())\n",
    "test.drop([\"Name\", \"Ticket\", \"Cabin\"], axis=1, inplace=True)            # \"PassengerId\" should be remained\n",
    "test[\"Age\"].fillna(test.Age.mean(), inplace=True)\n",
    "test[\"Fare\"].fillna(test.Fare.mean(), inplace=True)\n",
    "test[\"Embarked\"].fillna(\"S\", inplace=True)\n",
    "test = pd.get_dummies(test, columns=[\"Embarked\", \"Sex\"])\n",
    "\n",
    "print(test.head())\n",
    "test.info()\n",
    "\n",
    "test_input = test.iloc[:,1:].to_numpy() "
   ]
  },
  {
   "cell_type": "code",
   "execution_count": 8,
   "id": "7eeb65d6",
   "metadata": {
    "execution": {
     "iopub.execute_input": "2022-07-27T16:17:01.362930Z",
     "iopub.status.busy": "2022-07-27T16:17:01.362225Z",
     "iopub.status.idle": "2022-07-27T16:17:01.392177Z",
     "shell.execute_reply": "2022-07-27T16:17:01.391013Z"
    },
    "papermill": {
     "duration": 0.039612,
     "end_time": "2022-07-27T16:17:01.394933",
     "exception": false,
     "start_time": "2022-07-27T16:17:01.355321",
     "status": "completed"
    },
    "tags": []
   },
   "outputs": [
    {
     "data": {
      "text/html": [
       "<div>\n",
       "<style scoped>\n",
       "    .dataframe tbody tr th:only-of-type {\n",
       "        vertical-align: middle;\n",
       "    }\n",
       "\n",
       "    .dataframe tbody tr th {\n",
       "        vertical-align: top;\n",
       "    }\n",
       "\n",
       "    .dataframe thead th {\n",
       "        text-align: right;\n",
       "    }\n",
       "</style>\n",
       "<table border=\"1\" class=\"dataframe\">\n",
       "  <thead>\n",
       "    <tr style=\"text-align: right;\">\n",
       "      <th></th>\n",
       "      <th>PassengerId</th>\n",
       "      <th>Survived</th>\n",
       "    </tr>\n",
       "  </thead>\n",
       "  <tbody>\n",
       "    <tr>\n",
       "      <th>0</th>\n",
       "      <td>892</td>\n",
       "      <td>0</td>\n",
       "    </tr>\n",
       "    <tr>\n",
       "      <th>1</th>\n",
       "      <td>893</td>\n",
       "      <td>0</td>\n",
       "    </tr>\n",
       "    <tr>\n",
       "      <th>2</th>\n",
       "      <td>894</td>\n",
       "      <td>0</td>\n",
       "    </tr>\n",
       "    <tr>\n",
       "      <th>3</th>\n",
       "      <td>895</td>\n",
       "      <td>1</td>\n",
       "    </tr>\n",
       "    <tr>\n",
       "      <th>4</th>\n",
       "      <td>896</td>\n",
       "      <td>0</td>\n",
       "    </tr>\n",
       "  </tbody>\n",
       "</table>\n",
       "</div>"
      ],
      "text/plain": [
       "   PassengerId  Survived\n",
       "0          892         0\n",
       "1          893         0\n",
       "2          894         0\n",
       "3          895         1\n",
       "4          896         0"
      ]
     },
     "execution_count": 8,
     "metadata": {},
     "output_type": "execute_result"
    }
   ],
   "source": [
    "# 3.2 Generate the submission file\n",
    "\n",
    "test_id = test[\"PassengerId\"]\n",
    "test_output = hgb.predict(test_input)\n",
    "submission = pd.DataFrame({\"PassengerId\": test_id, \"Survived\": test_output})\n",
    "submission.to_csv(\"./submission_hgb.csv\", index=False)\n",
    "\n",
    "submission.head()"
   ]
  }
 ],
 "metadata": {
  "kernelspec": {
   "display_name": "Python 3.8.10 64-bit",
   "language": "python",
   "name": "python3"
  },
  "language_info": {
   "codemirror_mode": {
    "name": "ipython",
    "version": 3
   },
   "file_extension": ".py",
   "mimetype": "text/x-python",
   "name": "python",
   "nbconvert_exporter": "python",
   "pygments_lexer": "ipython3",
   "version": "3.8.10"
  },
  "papermill": {
   "default_parameters": {},
   "duration": 24.604379,
   "end_time": "2022-07-27T16:17:04.023373",
   "environment_variables": {},
   "exception": null,
   "input_path": "__notebook__.ipynb",
   "output_path": "__notebook__.ipynb",
   "parameters": {},
   "start_time": "2022-07-27T16:16:39.418994",
   "version": "2.3.4"
  },
  "vscode": {
   "interpreter": {
    "hash": "b42e5cc99c9f4c78801b32c78f8340f9fb670f2bf224eaa1d7bf459fcc5baa9f"
   }
  }
 },
 "nbformat": 4,
 "nbformat_minor": 5
}
